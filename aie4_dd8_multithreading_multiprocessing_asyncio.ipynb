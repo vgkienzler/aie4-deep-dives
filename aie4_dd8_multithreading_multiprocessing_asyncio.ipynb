{
 "nbformat": 4,
 "nbformat_minor": 0,
 "metadata": {
  "colab": {
   "provenance": []
  },
  "kernelspec": {
   "name": "python3",
   "language": "python",
   "display_name": "Python 3 (ipykernel)"
  },
  "language_info": {
   "name": "python"
  }
 },
 "cells": [
  {
   "cell_type": "markdown",
   "source": [
    "## Dependencies"
   ],
   "metadata": {
    "id": "iSqM1c4PgJaK"
   }
  },
  {
   "cell_type": "code",
   "execution_count": 1,
   "metadata": {
    "id": "pbWiVqeKfTlu",
    "ExecuteTime": {
     "end_time": "2024-10-08T10:41:54.440788Z",
     "start_time": "2024-10-08T10:41:54.422656Z"
    }
   },
   "outputs": [],
   "source": [
    "import time\n",
    "import threading\n",
    "import multiprocessing\n",
    "import asyncio\n",
    "\n",
    "# multiprocessing.set_start_method(\"spawn\", force=True)"
   ]
  },
  {
   "cell_type": "code",
   "source": [
    "# Define an I/O-bound task using sleep\n",
    "def io_bound_task():\n",
    "    time.sleep(1)\n",
    "    return \"I/O Task Complete\""
   ],
   "metadata": {
    "id": "PZN7uVuUgj_M",
    "ExecuteTime": {
     "end_time": "2024-10-08T10:42:00.243630Z",
     "start_time": "2024-10-08T10:42:00.238578Z"
    }
   },
   "execution_count": 2,
   "outputs": []
  },
  {
   "cell_type": "code",
   "source": [
    "# Define a CPU-bound task (finding primes up to a limit)\n",
    "def cpu_bound_task(limit=100000):\n",
    "    count = 0\n",
    "    for num in range(2, limit):\n",
    "        if all(num % i != 0 for i in range(2, int(num ** 0.5) + 1)):\n",
    "            count += 1\n",
    "    return \"CPU Task Complete\""
   ],
   "metadata": {
    "id": "tBu3Q_xLiMHI",
    "ExecuteTime": {
     "end_time": "2024-10-08T10:42:01.195052Z",
     "start_time": "2024-10-08T10:42:01.187176Z"
    }
   },
   "execution_count": 3,
   "outputs": []
  },
  {
   "cell_type": "code",
   "source": [
    "# Sequential Execution\n",
    "def sequential_execution(n_tasks, task_func):\n",
    "    start = time.time()\n",
    "    for _ in range(n_tasks):\n",
    "        task_func()\n",
    "    end = time.time()\n",
    "    print(f\"Sequential Execution Time: {end - start:.2f} seconds\")"
   ],
   "metadata": {
    "id": "0rhc_7n7gmle",
    "ExecuteTime": {
     "end_time": "2024-10-08T10:42:01.754289Z",
     "start_time": "2024-10-08T10:42:01.747416Z"
    }
   },
   "execution_count": 4,
   "outputs": []
  },
  {
   "cell_type": "code",
   "source": [
    "# Multithreading Execution\n",
    "def multithreading_execution(n_tasks, task_func):\n",
    "    start = time.time()\n",
    "    threads = []\n",
    "    for _ in range(n_tasks):\n",
    "        thread = threading.Thread(target=task_func)\n",
    "        thread.start()\n",
    "        threads.append(thread)\n",
    "\n",
    "    for thread in threads:\n",
    "        thread.join()\n",
    "    end = time.time()\n",
    "    print(f\"Multithreading Execution Time: {end - start:.2f} seconds\")"
   ],
   "metadata": {
    "id": "nr_J0mD_grUn",
    "ExecuteTime": {
     "end_time": "2024-10-08T10:42:02.607811Z",
     "start_time": "2024-10-08T10:42:02.598853Z"
    }
   },
   "execution_count": 5,
   "outputs": []
  },
  {
   "cell_type": "code",
   "source": [
    "# Multiprocessing Execution\n",
    "def multiprocessing_execution(n_tasks, task_func):\n",
    "    start = time.time()\n",
    "    processes = []\n",
    "    for _ in range(n_tasks):\n",
    "        process = multiprocessing.Process(target=task_func)\n",
    "        process.start()\n",
    "        processes.append(process)\n",
    "\n",
    "    for process in processes:\n",
    "        process.join()\n",
    "    end = time.time()\n",
    "    print(f\"Multiprocessing Execution Time: {end - start:.2f} seconds\")\n",
    "\n",
    "\n",
    "def run_multiprocessing_execution(n_tasks_cpu_bound, cpu_limit):\n",
    "    multiprocessing_execution(n_tasks_cpu_bound, cpu_bound_task(cpu_limit))"
   ],
   "metadata": {
    "id": "OzNYfkJ4gw3O",
    "ExecuteTime": {
     "end_time": "2024-10-08T10:45:07.053921Z",
     "start_time": "2024-10-08T10:45:07.045665Z"
    }
   },
   "execution_count": 12,
   "outputs": []
  },
  {
   "cell_type": "code",
   "source": [
    "# Asyncio Execution\n",
    "async def async_io_task():\n",
    "    await asyncio.sleep(1)\n",
    "    return \"I/O Task Complete\"\n",
    "\n",
    "async def asyncio_cpu_task(limit=100000):\n",
    "    return cpu_bound_task(limit)\n",
    "\n",
    "async def run_asyncio_cpu_tasks(n_tasks, limit):\n",
    "    start = time.time()\n",
    "    tasks = [asyncio_cpu_task(limit) for _ in range(n_tasks)]\n",
    "    await asyncio.gather(*tasks)\n",
    "    end = time.time()\n",
    "    print(f\"Asyncio Execution Time: {end - start:.2f} seconds\")\n",
    "\n",
    "async def asyncio_execution(n_tasks, task_func):\n",
    "    start = time.time()\n",
    "    if task_func == async_io_task:  # Only works with async for I/O-bound task\n",
    "      tasks = [task_func() for _ in range(n_tasks)]\n",
    "      await asyncio.gather(*tasks)\n",
    "    else:\n",
    "      tasks = [task_func() for _ in range(n_tasks)]\n",
    "      await asyncio.gather(*tasks)\n",
    "    end = time.time()\n",
    "    print(f\"Asyncio Execution Time: {end - start:.2f} seconds\")"
   ],
   "metadata": {
    "id": "sVzuD-4Mgzm0",
    "ExecuteTime": {
     "end_time": "2024-10-08T10:42:04.104804Z",
     "start_time": "2024-10-08T10:42:04.090978Z"
    }
   },
   "execution_count": 7,
   "outputs": []
  },
  {
   "cell_type": "code",
   "source": [
    "# Set number of tasks for IO-bound task\n",
    "n_tasks_io_bound = 10"
   ],
   "metadata": {
    "id": "E91NUqcYijxW",
    "ExecuteTime": {
     "end_time": "2024-10-08T10:42:06.149590Z",
     "start_time": "2024-10-08T10:42:06.143723Z"
    }
   },
   "execution_count": 8,
   "outputs": []
  },
  {
   "cell_type": "code",
   "source": [
    "# Run tests for I/O-bound task\n",
    "print(\"=== I/O-Bound Task ===\")\n",
    "print(\"\\nSequential Execution (I/O-bound):\")\n",
    "sequential_execution(n_tasks_io_bound, io_bound_task)\n",
    "\n",
    "print(\"\\nMultithreading Execution (I/O-bound):\")\n",
    "multithreading_execution(n_tasks_io_bound, io_bound_task)\n",
    "\n",
    "print(\"\\nMultiprocessing Execution (I/O-bound):\")\n",
    "multiprocessing_execution(n_tasks_io_bound, io_bound_task)\n",
    "\n",
    "print(\"\\nAsyncio Execution (I/O-bound):\")\n",
    "await asyncio_execution(n_tasks_io_bound, async_io_task)"
   ],
   "metadata": {
    "colab": {
     "base_uri": "https://localhost:8080/"
    },
    "id": "OQEd-2CRioHd",
    "outputId": "034097de-0f84-4a78-dbf5-f263b624681a",
    "ExecuteTime": {
     "end_time": "2024-10-08T10:42:20.192150Z",
     "start_time": "2024-10-08T10:42:07.717072Z"
    }
   },
   "execution_count": 9,
   "outputs": [
    {
     "name": "stdout",
     "output_type": "stream",
     "text": [
      "=== I/O-Bound Task ===\n",
      "\n",
      "Sequential Execution (I/O-bound):\n",
      "Sequential Execution Time: 10.07 seconds\n",
      "\n",
      "Multithreading Execution (I/O-bound):\n",
      "Multithreading Execution Time: 1.00 seconds\n",
      "\n",
      "Multiprocessing Execution (I/O-bound):\n",
      "Multiprocessing Execution Time: 0.37 seconds\n",
      "\n",
      "Asyncio Execution (I/O-bound):\n",
      "Asyncio Execution Time: 1.01 seconds\n"
     ]
    }
   ]
  },
  {
   "cell_type": "code",
   "source": [
    "# Set number of tasks and limit for CPU-bound task\n",
    "n_tasks_cpu_bound = 3\n",
    "cpu_limit = 400000  # Higher limits will increase CPU load"
   ],
   "metadata": {
    "id": "gldqZaQokQdW",
    "ExecuteTime": {
     "end_time": "2024-10-08T10:45:51.235460Z",
     "start_time": "2024-10-08T10:45:51.228967Z"
    }
   },
   "execution_count": 15,
   "outputs": []
  },
  {
   "cell_type": "code",
   "source": [
    "# Run tests for CPU-bound task\n",
    "print(\"\\n=== CPU-Bound Task ===\")\n",
    "print(\"\\nSequential Execution (CPU-bound):\")\n",
    "sequential_execution(n_tasks_cpu_bound, lambda: cpu_bound_task(cpu_limit))\n",
    "\n",
    "print(\"\\nMultithreading Execution (CPU-bound):\")\n",
    "multithreading_execution(n_tasks_cpu_bound, lambda: cpu_bound_task(cpu_limit))\n",
    "\n",
    "print(\"\\nMultiprocessing Execution (CPU-bound):\")\n",
    "run_multiprocessing_execution(n_tasks_cpu_bound, cpu_limit)\n",
    "\n",
    "print(\"\\nAsyncio Execution (CPU-bound):\")\n",
    "await run_asyncio_cpu_tasks(n_tasks_cpu_bound, cpu_limit)"
   ],
   "metadata": {
    "colab": {
     "base_uri": "https://localhost:8080/",
     "height": 530
    },
    "id": "Zc6Sufshiqr9",
    "outputId": "8e0f08a9-9a85-4aea-c83c-7ddac395562c",
    "ExecuteTime": {
     "end_time": "2024-10-08T10:46:13.598550Z",
     "start_time": "2024-10-08T10:45:53.955728Z"
    }
   },
   "execution_count": 16,
   "outputs": [
    {
     "name": "stdout",
     "output_type": "stream",
     "text": [
      "\n",
      "=== CPU-Bound Task ===\n",
      "\n",
      "Sequential Execution (CPU-bound):\n",
      "Sequential Execution Time: 6.26 seconds\n",
      "\n",
      "Multithreading Execution (CPU-bound):\n",
      "Multithreading Execution Time: 5.38 seconds\n",
      "\n",
      "Multiprocessing Execution (CPU-bound):\n",
      "Multiprocessing Execution Time: 0.12 seconds\n",
      "\n",
      "Asyncio Execution (CPU-bound):\n",
      "Asyncio Execution Time: 5.85 seconds\n"
     ]
    }
   ]
  },
  {
   "cell_type": "code",
   "outputs": [],
   "source": [],
   "metadata": {
    "collapsed": false
   }
  }
 ]
}
